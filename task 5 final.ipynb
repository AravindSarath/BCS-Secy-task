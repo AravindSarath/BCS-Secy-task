{
 "cells": [
  {
   "cell_type": "code",
   "execution_count": 95,
   "id": "47665dac-5bde-4b2b-9263-130fc7e7ed7c",
   "metadata": {},
   "outputs": [
    {
     "name": "stdout",
     "output_type": "stream",
     "text": [
      "Accuracy: 0.74\n"
     ]
    }
   ],
   "source": [
    "#importing all required libraries\n",
    "import pandas as pd\n",
    "import random as rand\n",
    "import numpy as np\n",
    "from sklearn.linear_model import LinearRegression\n",
    "from sklearn.model_selection import train_test_split\n",
    "from sklearn.preprocessing import StandardScaler\n",
    "from sklearn.metrics import accuracy_score\n",
    "# Original data (randomly generated) \n",
    "data = {\n",
    "    'Hot or Cold':np.random.randint(0,2, size=10),\n",
    "    'Spicy Food or Mild Food':np.random.randint(0,2, size=10),\n",
    "    'Tea or Coffee': np.random.randint(0,2, size=10),\n",
    "    'Cooking at Home or Dining Out': np.random.randint(0,2, size=10),\n",
    "    'Sweet or Sour':np.random.randint(0,2, size=10),\n",
    "    'Cake Preference':np.random.randint(0,2, size=10)  ,\n",
    "}\n",
    "# converting the dictionary to DataFrame\n",
    "df_initial = pd.DataFrame(data)\n",
    "# function to create slight variations in data\n",
    "def generate_variations(row):\n",
    "    return [row[col] if rand.random() > 0.13 else 1 - row[col] for col in df_initial.columns]\n",
    "# generating expanded dataset with 900 rows\n",
    "expanded_dataset = []\n",
    "for _ in range(900 // len(df_initial) + 1):  # +1 ensures at least 900 rows\n",
    "    for _, row in df_initial.iterrows():\n",
    "        expanded_dataset.append(generate_variations(row))\n",
    "expanded_dataset = expanded_dataset[:900]  # trim to exactly 900 rows\n",
    "# convert expanded dataset to DataFrame\n",
    "df_expanded = pd.DataFrame(expanded_dataset, columns=df_initial.columns)\n",
    "# defining features and target variable\n",
    "X = df_expanded.drop('Cake Preference', axis=1)\n",
    "y = df_expanded['Cake Preference']\n",
    "# splitting data into training and test sets\n",
    "X_train, X_test, y_train, y_test = train_test_split(X, y, test_size=0.2, random_state=42)\n",
    "# scaling the feature data\n",
    "scaler = StandardScaler()\n",
    "X_train_scaled = scaler.fit_transform(X_train)\n",
    "X_test_scaled = scaler.transform(X_test)\n",
    "# initializing and training the regression model\n",
    "reg_model = LinearRegression()\n",
    "reg_model.fit(X_train_scaled, y_train)\n",
    "# making predictions on the test set\n",
    "y_pred = reg_model.predict(X_test_scaled)\n",
    "y_pred_binary = [1 if pred > 0.5 else 0 for pred in y_pred]\n",
    "# calculating and printing accuracy\n",
    "model_accuracy = accuracy_score(y_test, y_pred_binary)\n",
    "print(f'Accuracy: {model_accuracy:.2f}')"
   ]
  }
 ],
 "metadata": {
  "kernelspec": {
   "display_name": "Python 3 (ipykernel)",
   "language": "python",
   "name": "python3"
  },
  "language_info": {
   "codemirror_mode": {
    "name": "ipython",
    "version": 3
   },
   "file_extension": ".py",
   "mimetype": "text/x-python",
   "name": "python",
   "nbconvert_exporter": "python",
   "pygments_lexer": "ipython3",
   "version": "3.11.7"
  }
 },
 "nbformat": 4,
 "nbformat_minor": 5
}
